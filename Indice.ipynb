{
 "cells": [
  {
   "cell_type": "markdown",
   "id": "74c27a1b-30cc-4922-8ead-624cfa7e3ace",
   "metadata": {},
   "source": [
    "# Generación de graficas\n",
    "\n",
    "## Índice\n",
    "\n",
    "- [Histograma](./nicole-histograma.ipynb)\n",
    "- [Polígono de frecuencias](./iveth-polifrecuencias.ipynb)\n",
    "- [Ojiva](./Melanie_Ojiva.ipynb)\n",
    "- [Diagrama de barras horizontales](./melanie_diagrama_de_barras_horizontales.ipynb)\n",
    "- [Diagrama de pastel](./diagrama-de-pastel.ipynb)"
   ]
  }
 ],
 "metadata": {
  "kernelspec": {
   "display_name": "",
   "name": ""
  },
  "language_info": {
   "name": ""
  }
 },
 "nbformat": 4,
 "nbformat_minor": 5
}
